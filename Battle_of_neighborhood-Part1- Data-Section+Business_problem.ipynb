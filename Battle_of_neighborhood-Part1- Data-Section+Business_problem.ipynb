{
    "nbformat_minor": 1, 
    "cells": [
        {
            "source": "# Coursera Capstone - REPORT CONTENT\n\nIntroduction Section : \u2043 Discussion of the business problem and the interested audience in this project.\nData Section:\n* 1.  Description of the data that will be used to solve the problem and the sources.\n* 2. Methodology section \u2043 Discussion and description of exploratory data analysis carried out, any inferential statistical testing performed, and if any machine learnings   were used establishing the strategy and purposes.\n* 3. Results section \u2043 Discussion of the results.\n* 4. Discussion section \u2043 Elaboration and discussion on any observations noted and any recommendations suggested based on the results.\n* 5. Conclusion section \u2043 Report Conclusion.", 
            "cell_type": "markdown", 
            "metadata": {
                "collapsed": true
            }
        }, 
        {
            "source": "# Scenario:\n\nI am a data scientist residing in Downtown Singapore. I currently live within walking distance to Downtown Telok Ayer MRT metro station and I enjoy many ammenities and venues in the area, such as various international cousine restaurants, cafes, food shops and entertainment. I have been offered a great opportunity to work for a leader firm in Manhattan, NY. I am very excited and I want to use this opportunity to practice my learnings in Coursera in order to answer relevant questions arisen. The key question is : How can I find a convenient and enjoyable place similar to mine now in Singapore? Certainly, I can use available real estate apps and Google but the idea is to use and apply myself the learned tools during the course. In order to make a comparison and evaluation of the rental options in Manhattan NY, I must set some basis, therefore the apartment in Manhattan must meet the following demands:\n\n* apartment must be 2 or 3 bedrooms\n* desired location is near a metro station in the Manhattan area and within 1.0 mile (1.6 km) radius\n* price of rent not exceed $7,000 per month\n* top ammenities in the selected neighborhood shall be similar to current residence\n* desirable to have venues such as coffee shops, restaurants Asian Thai, wine stores, gym and food shops\n\nas a reference, I have included a map of venues near current residence in Singapore.\n\n* 1. Business Problem:\n\nThe challenge is to find a suitable apartment for rent in Manhattan NY that complies with the demands on location, price and venues. The data required to resolve this challenge is described in the following section 2, below.\n\n* 2. Interested Audience\n\nI believe this is a relevant challenge with valid questions for anyone moving to other large city in US, EU or Asia. The same methodology can be applied in accordance to demands as applicable. This case is also applicable for anyone interested in exploring starting or locating a new business in any city. Lastly, it can also serve as a good practical exercise to develop Data Science skills.", 
            "cell_type": "markdown", 
            "metadata": {}
        }, 
        {
            "source": "## Data Section", 
            "cell_type": "markdown", 
            "metadata": {}
        }, 
        {
            "source": "# Description of the Data:\nThe following data is required to answer the issues of the problem:\n\n* List of Boroughs and neighborhoods of Manhattan with their geodata (latitud and longitud)\n* List of Subway metro stations in Manhattan with their address location\n* List of apartments for rent in Manhattan area with their addresses and price\n* Preferably, a list of apartment for rent with additional information, such as price, address, area, # of beds, etc\n* Venues for each Manhattan neighborhood ( than can be clustered)\n* Venues for subway metro stations, as needed\n\n# How the data will be used to solve the problem\nThe data will be used as follows:\n\nUse Foursquare and geopy data to map top 10 venues for all Manhattan neighborhoods and clustered in groups ( as per Course LAB)\nUse foursquare and geopy data to map the location of subway metro stations , separately and on top of the above clustered map in order to be able to identify the venues and ammenities near each metro station, or explore each subway location separately\nUse Foursquare and geopy data to map the location of rental places, in some form, linked to the subway locations.\ncreate a map that depicts, for instance, the average rental price per square ft, around a radious of 1.0 mile (1.6 km) around each subway station - or a similar metrics. I will be able to quickly point to the popups to know the relative price per subway area.\nAddresses from rental locations will be converted to geodata( lat, long) using Geopy-distance and Nominatim.\nData will be searched in open data sources if available, from real estate sites if open to reading, libraries or other government agencies such as Metro New York MTA, etc.\nThe procesing of these DATA will allow to answer the key questions to make a decision:\n\n* 1. what is the cost of rent (per square ft) around a mile radius from each subway metro station?\n* 2. what is the area of Manhattan with best rental pricing that meets criteria established?\n* 3. What is the distance from work place ( Park Ave and 53 rd St) and the tentative future home?\n* 4. What are the venues of the two best places to live? How the prices compare?\n* 5. How venues distribute among Manhattan neighborhoods and around metro stations?\n* 6. Are there tradeoffs between size and price and location?\n\nAny other interesting statistical data findings of the real estate and overall data.", 
            "cell_type": "markdown", 
            "metadata": {}
        }, 
        {
            "source": "", 
            "cell_type": "markdown", 
            "metadata": {}
        }, 
        {
            "execution_count": 2, 
            "cell_type": "code", 
            "metadata": {}, 
            "outputs": [
                {
                    "output_type": "stream", 
                    "name": "stdout", 
                    "text": "Solving environment: done\n\n# All requested packages already installed.\n\nLibraries imported.\n"
                }
            ], 
            "source": "import numpy as np # library to handle data in a vectorized manner\nimport time\nimport pandas as pd # library for data analsysis\npd.set_option('display.max_columns', None)\npd.set_option('display.max_rows', None)\n\nimport json # library to handle JSON files\nimport requests # library to handle requests\nfrom pandas.io.json import json_normalize # tranform JSON file into a pandas dataframe\n\nfrom geopy.geocoders import Nominatim # convert an address into latitude and longitude values\n!conda install -c conda-forge folium=0.5.0 --yes # uncomment this line if you haven't completed the Foursquare API lab\nimport folium # map rendering library\n\nprint('Libraries imported.')"
        }, 
        {
            "execution_count": 3, 
            "cell_type": "code", 
            "metadata": {}, 
            "outputs": [
                {
                    "output_type": "stream", 
                    "name": "stdout", 
                    "text": "The geograpical coordinate of Singapore home are 1.2792423, 103.8481312.\n"
                }, 
                {
                    "output_type": "stream", 
                    "name": "stderr", 
                    "text": "/opt/conda/envs/Python36/lib/python3.6/site-packages/ipykernel/__main__.py:4: DeprecationWarning: Using Nominatim with the default \"geopy/1.20.0\" `user_agent` is strongly discouraged, as it violates Nominatim's ToS https://operations.osmfoundation.org/policies/nominatim/ and may possibly cause 403 and 429 HTTP errors. Please specify a custom `user_agent` with `Nominatim(user_agent=\"my-application\")` or by overriding the default `user_agent`: `geopy.geocoders.options.default_user_agent = \"my-application\"`. In geopy 2.0 this will become an exception.\n"
                }
            ], 
            "source": "# Shenton Way, District 01, Singapore\naddress = 'Mccallum Street, Singapore'\n\ngeolocator = Nominatim()\nlocation = geolocator.geocode(address)\nlatitude = location.latitude\nlongitude = location.longitude\nprint('The geograpical coordinate of Singapore home are {}, {}.'.format(latitude, longitude))"
        }, 
        {
            "execution_count": 9, 
            "cell_type": "code", 
            "metadata": {}, 
            "outputs": [], 
            "source": "\nneighborhood_latitude=1.2792655\nneighborhood_longitude=103.8480938\nCLIENT_ID='DVCTZDPDYXTS0BRJFPLMHM323APGXNWZI5PLRQ1VC0CFLF1T'\nCLIENT_SECRET='5NWAGXRLXIXAV0L3DNYY1EPIHNMAAAIZFDFELYSYXL5LFWL1'\nVERSION=20180605"
        }, 
        {
            "execution_count": 10, 
            "cell_type": "code", 
            "metadata": {}, 
            "outputs": [
                {
                    "execution_count": 10, 
                    "metadata": {}, 
                    "data": {
                        "text/plain": "'https://api.foursquare.com/v2/venues/explore?&client_id=DVCTZDPDYXTS0BRJFPLMHM323APGXNWZI5PLRQ1VC0CFLF1T&client_secret=5NWAGXRLXIXAV0L3DNYY1EPIHNMAAAIZFDFELYSYXL5LFWL1&v=20180605&ll=1.2792655,103.8480938&radius=500&limit=100'"
                    }, 
                    "output_type": "execute_result"
                }
            ], 
            "source": "\nLIMIT = 100 # limit of number of venues returned by Foursquare API\nradius = 500 # define radius\n\n# create URL\nurl = 'https://api.foursquare.com/v2/venues/explore?&client_id={}&client_secret={}&v={}&ll={},{}&radius={}&limit={}'.format(\n    CLIENT_ID, \n    CLIENT_SECRET, \n    VERSION, \n    neighborhood_latitude, \n    neighborhood_longitude, \n    radius, \n    LIMIT)\nurl # display URL"
        }, 
        {
            "execution_count": 11, 
            "cell_type": "code", 
            "metadata": {}, 
            "outputs": [], 
            "source": "results = requests.get(url).json()\n#results"
        }, 
        {
            "execution_count": 12, 
            "cell_type": "code", 
            "metadata": {}, 
            "outputs": [], 
            "source": "# function that extracts the category of the venue\ndef get_category_type(row):\n    try:\n        categories_list = row['categories']\n    except:\n        categories_list = row['venue.categories']\n        \n    if len(categories_list) == 0:\n        return None\n    else:\n        return categories_list[0]['name']"
        }, 
        {
            "execution_count": 13, 
            "cell_type": "code", 
            "metadata": {}, 
            "outputs": [
                {
                    "execution_count": 13, 
                    "metadata": {}, 
                    "data": {
                        "text/html": "<div>\n<style scoped>\n    .dataframe tbody tr th:only-of-type {\n        vertical-align: middle;\n    }\n\n    .dataframe tbody tr th {\n        vertical-align: top;\n    }\n\n    .dataframe thead th {\n        text-align: right;\n    }\n</style>\n<table border=\"1\" class=\"dataframe\">\n  <thead>\n    <tr style=\"text-align: right;\">\n      <th></th>\n      <th>name</th>\n      <th>categories</th>\n      <th>lat</th>\n      <th>lng</th>\n    </tr>\n  </thead>\n  <tbody>\n    <tr>\n      <th>0</th>\n      <td>Napoleon Food &amp; Wine Bar</td>\n      <td>Wine Bar</td>\n      <td>1.279925</td>\n      <td>103.847333</td>\n    </tr>\n    <tr>\n      <th>1</th>\n      <td>Native</td>\n      <td>Cocktail Bar</td>\n      <td>1.280135</td>\n      <td>103.846844</td>\n    </tr>\n    <tr>\n      <th>2</th>\n      <td>Pepper Bowl</td>\n      <td>Asian Restaurant</td>\n      <td>1.279371</td>\n      <td>103.846710</td>\n    </tr>\n    <tr>\n      <th>3</th>\n      <td>Park Bench Deli</td>\n      <td>Deli / Bodega</td>\n      <td>1.279872</td>\n      <td>103.847287</td>\n    </tr>\n    <tr>\n      <th>4</th>\n      <td>Freehouse</td>\n      <td>Beer Garden</td>\n      <td>1.281254</td>\n      <td>103.848513</td>\n    </tr>\n    <tr>\n      <th>5</th>\n      <td>Muchachos</td>\n      <td>Burrito Place</td>\n      <td>1.279072</td>\n      <td>103.847026</td>\n    </tr>\n    <tr>\n      <th>6</th>\n      <td>Sofitel So Singapore</td>\n      <td>Hotel</td>\n      <td>1.280124</td>\n      <td>103.849867</td>\n    </tr>\n    <tr>\n      <th>7</th>\n      <td>Dumpling Darlings</td>\n      <td>Dumpling Restaurant</td>\n      <td>1.280483</td>\n      <td>103.846942</td>\n    </tr>\n    <tr>\n      <th>8</th>\n      <td>Coffee Break</td>\n      <td>Coffee Shop</td>\n      <td>1.279529</td>\n      <td>103.846695</td>\n    </tr>\n    <tr>\n      <th>9</th>\n      <td>PS.Cafe</td>\n      <td>Caf\u00e9</td>\n      <td>1.280468</td>\n      <td>103.846264</td>\n    </tr>\n  </tbody>\n</table>\n</div>", 
                        "text/plain": "                       name           categories       lat         lng\n0  Napoleon Food & Wine Bar             Wine Bar  1.279925  103.847333\n1                    Native         Cocktail Bar  1.280135  103.846844\n2               Pepper Bowl     Asian Restaurant  1.279371  103.846710\n3           Park Bench Deli        Deli / Bodega  1.279872  103.847287\n4                 Freehouse          Beer Garden  1.281254  103.848513\n5                 Muchachos        Burrito Place  1.279072  103.847026\n6      Sofitel So Singapore                Hotel  1.280124  103.849867\n7         Dumpling Darlings  Dumpling Restaurant  1.280483  103.846942\n8              Coffee Break          Coffee Shop  1.279529  103.846695\n9                   PS.Cafe                 Caf\u00e9  1.280468  103.846264"
                    }, 
                    "output_type": "execute_result"
                }
            ], 
            "source": "venues = results['response']['groups'][0]['items']\n    \nSGnearby_venues = json_normalize(venues) # flatten JSON\n\n# filter columns\nfiltered_columns = ['venue.name', 'venue.categories', 'venue.location.lat', 'venue.location.lng']\nSGnearby_venues =SGnearby_venues.loc[:, filtered_columns]\n\n# filter the category for each row\nSGnearby_venues['venue.categories'] = SGnearby_venues.apply(get_category_type, axis=1)\n\n# clean columns\nSGnearby_venues.columns = [col.split(\".\")[-1] for col in SGnearby_venues.columns]\n\nSGnearby_venues.head(10)"
        }, 
        {
            "execution_count": null, 
            "cell_type": "code", 
            "metadata": {}, 
            "outputs": [], 
            "source": ""
        }
    ], 
    "metadata": {
        "kernelspec": {
            "display_name": "Python 3.6", 
            "name": "python3", 
            "language": "python"
        }, 
        "language_info": {
            "mimetype": "text/x-python", 
            "nbconvert_exporter": "python", 
            "version": "3.6.8", 
            "name": "python", 
            "file_extension": ".py", 
            "pygments_lexer": "ipython3", 
            "codemirror_mode": {
                "version": 3, 
                "name": "ipython"
            }
        }
    }, 
    "nbformat": 4
}