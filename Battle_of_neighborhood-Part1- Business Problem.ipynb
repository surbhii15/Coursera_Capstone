{
    "nbformat_minor": 1, 
    "cells": [
        {
            "source": "# Coursera Capstone - REPORT CONTENT\n\nIntroduction Section : \u2043 Discussion of the business problem and the interested audience in this project.\nData Section:\n* 1.  Description of the data that will be used to solve the problem and the sources.\n* 2. Methodology section \u2043 Discussion and description of exploratory data analysis carried out, any inferential statistical testing performed, and if any machine learnings   were used establishing the strategy and purposes.\n* 3. Results section \u2043 Discussion of the results.\n* 4. Discussion section \u2043 Elaboration and discussion on any observations noted and any recommendations suggested based on the results.\n* 5. Conclusion section \u2043 Report Conclusion.", 
            "cell_type": "markdown", 
            "metadata": {
                "collapsed": true
            }
        }, 
        {
            "source": "# Scenario:\n\nI am a data scientist residing in Downtown Singapore. I currently live within walking distance to Downtown Telok Ayer MRT metro station and I enjoy many ammenities and venues in the area, such as various international cousine restaurants, cafes, food shops and entertainment. I have been offered a great opportunity to work for a leader firm in Manhattan, NY. I am very excited and I want to use this opportunity to practice my learnings in Coursera in order to answer relevant questions arisen. The key question is : How can I find a convenient and enjoyable place similar to mine now in Singapore? Certainly, I can use available real estate apps and Google but the idea is to use and apply myself the learned tools during the course. In order to make a comparison and evaluation of the rental options in Manhattan NY, I must set some basis, therefore the apartment in Manhattan must meet the following demands:\n\n* apartment must be 2 or 3 bedrooms\n* desired location is near a metro station in the Manhattan area and within 1.0 mile (1.6 km) radius\n* price of rent not exceed $7,000 per month\n* top ammenities in the selected neighborhood shall be similar to current residence\n* desirable to have venues such as coffee shops, restaurants Asian Thai, wine stores, gym and food shops\n\nas a reference, I have included a map of venues near current residence in Singapore.\n\n* 1. Business Problem:\n\nThe challenge is to find a suitable apartment for rent in Manhattan NY that complies with the demands on location, price and venues. The data required to resolve this challenge is described in the following section 2, below.\n\n* 2. Interested Audience\n\nI believe this is a relevant challenge with valid questions for anyone moving to other large city in US, EU or Asia. The same methodology can be applied in accordance to demands as applicable. This case is also applicable for anyone interested in exploring starting or locating a new business in any city. Lastly, it can also serve as a good practical exercise to develop Data Science skills.", 
            "cell_type": "markdown", 
            "metadata": {}
        }, 
        {
            "source": "## Data Section", 
            "cell_type": "markdown", 
            "metadata": {}
        }, 
        {
            "source": "# Description of the Data:\nThe following data is required to answer the issues of the problem:\n\n* List of Boroughs and neighborhoods of Manhattan with their geodata (latitud and longitud)\n* List of Subway metro stations in Manhattan with their address location\n* List of apartments for rent in Manhattan area with their addresses and price\n* Preferably, a list of apartment for rent with additional information, such as price, address, area, # of beds, etc\n* Venues for each Manhattan neighborhood ( than can be clustered)\n* Venues for subway metro stations, as needed\n\n# How the data will be used to solve the problem\nThe data will be used as follows:\n\nUse Foursquare and geopy data to map top 10 venues for all Manhattan neighborhoods and clustered in groups ( as per Course LAB)\nUse foursquare and geopy data to map the location of subway metro stations , separately and on top of the above clustered map in order to be able to identify the venues and ammenities near each metro station, or explore each subway location separately\nUse Foursquare and geopy data to map the location of rental places, in some form, linked to the subway locations.\ncreate a map that depicts, for instance, the average rental price per square ft, around a radious of 1.0 mile (1.6 km) around each subway station - or a similar metrics. I will be able to quickly point to the popups to know the relative price per subway area.\nAddresses from rental locations will be converted to geodata( lat, long) using Geopy-distance and Nominatim.\nData will be searched in open data sources if available, from real estate sites if open to reading, libraries or other government agencies such as Metro New York MTA, etc.\nThe procesing of these DATA will allow to answer the key questions to make a decision:\n\n* 1. what is the cost of rent (per square ft) around a mile radius from each subway metro station?\n* 2. what is the area of Manhattan with best rental pricing that meets criteria established?\n* 3. What is the distance from work place ( Park Ave and 53 rd St) and the tentative future home?\n* 4. What are the venues of the two best places to live? How the prices compare?\n* 5. How venues distribute among Manhattan neighborhoods and around metro stations?\n* 6. Are there tradeoffs between size and price and location?\n\nAny other interesting statistical data findings of the real estate and overall data.", 
            "cell_type": "markdown", 
            "metadata": {}
        }, 
        {
            "execution_count": null, 
            "cell_type": "code", 
            "metadata": {}, 
            "outputs": [], 
            "source": ""
        }
    ], 
    "metadata": {
        "kernelspec": {
            "display_name": "Python 3.6", 
            "name": "python3", 
            "language": "python"
        }, 
        "language_info": {
            "mimetype": "text/x-python", 
            "nbconvert_exporter": "python", 
            "version": "3.6.8", 
            "name": "python", 
            "file_extension": ".py", 
            "pygments_lexer": "ipython3", 
            "codemirror_mode": {
                "version": 3, 
                "name": "ipython"
            }
        }
    }, 
    "nbformat": 4
}